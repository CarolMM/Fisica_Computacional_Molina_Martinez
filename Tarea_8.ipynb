{
 "cells": [
  {
   "cell_type": "markdown",
   "metadata": {},
   "source": [
    "# Diferencias finitas"
   ]
  },
  {
   "cell_type": "markdown",
   "metadata": {},
   "source": [
    "Ejercicio 1. Escribe una función derivadaNumerica que reciba: una función $f\\colon \\mathbb{R}\\mapsto\\mathbb{R}$, un punto $x_0\\in\\mathbb{R}$ y un número $h\\in\\mathbb{R}$. Esta función deberá calcular una aproximación a la derivada utilizando la definición indicada arriba ignorando la parte del límite. Es decir, algo como: derivada_numerica(f,x,h)."
   ]
  },
  {
   "cell_type": "markdown",
   "metadata": {},
   "source": [
    "$$\n",
    "f'(x) = \\frac{f(x+h)-f(x)}{h}.\n",
    "$$"
   ]
  },
  {
   "cell_type": "code",
   "execution_count": 1,
   "metadata": {
    "collapsed": false
   },
   "outputs": [
    {
     "data": {
      "text/plain": [
       "f (generic function with 1 method)"
      ]
     },
     "execution_count": 1,
     "metadata": {},
     "output_type": "execute_result"
    }
   ],
   "source": [
    "function f(x)    #Función de la que se calculará su derivada numérica\n",
    "    cos.(x)\n",
    "end"
   ]
  },
  {
   "cell_type": "code",
   "execution_count": 2,
   "metadata": {
    "collapsed": false
   },
   "outputs": [
    {
     "data": {
      "text/plain": [
       "derivada_numerica (generic function with 1 method)"
      ]
     },
     "execution_count": 2,
     "metadata": {},
     "output_type": "execute_result"
    }
   ],
   "source": [
    "function derivada_numerica(f,x,h)    #La función derivada_numerica recibirá la función a derivar, el punto donde se realizará la evaluación y el tamaño de h\n",
    "    fprima_=(f(x+h)-f(x))/h           #Se calcula la derivada numérica con la fórmula mostrada arriba.\n",
    "    print(fprima_)                    #La función regresa el valor de la derivada numérica\n",
    "end"
   ]
  },
  {
   "cell_type": "code",
   "execution_count": 3,
   "metadata": {
    "collapsed": false
   },
   "outputs": [
    {
     "name": "stdout",
     "output_type": "stream",
     "text": [
      "-0.0004999999583255033"
     ]
    }
   ],
   "source": [
    "derivada_numerica(f,0,0.001)         #Probando con la función coseno, en el pumto 0, con un valor de h igual a 0.001"
   ]
  },
  {
   "cell_type": "markdown",
   "metadata": {
    "collapsed": true
   },
   "source": [
    "__Ejercicio 7:__ Explotar la relación $\\delta_h=\\Delta_h-\\Delta_{-h}$, donde $\\delta_h:f(x)\\mapsto f(x+h)-f(x-h)$, para encontrar cual es la función $\\theta$ que relaciona a $\\delta_h$ con el operador derivada exacta, es decir:\n",
    "$$\\delta_h=\\theta\\left(h\\left. \\frac{d}{d\\xi}\\right|_{\\xi=x}\\right).$$\n",
    "\n",
    "Una vez que la encuentren, despejen $\\left. \\frac{d}{d\\xi}\\right|_{\\xi=x}$ y calculen la serie de Taylor de mánera similar a lo mostrado en las ecuaciones 3 y 4."
   ]
  },
  {
   "cell_type": "markdown",
   "metadata": {
    "collapsed": true
   },
   "source": [
    "En la clase se demostró que $\\phi(x)=e^x-1$, por lo que ${ \\Delta  }_{ h }$ y ${ \\Delta  }_{ -h }$ son de la forma:"
   ]
  },
  {
   "cell_type": "markdown",
   "metadata": {},
   "source": [
    "$${ \\Delta  }_{ h }=exp\\left( h\\left. \\frac { d }{ d\\xi  }  \\right| _{ \\xi =x } \\right) -1$$\n",
    "\n",
    "$${ \\Delta  }_{ -h }=exp\\left( -h\\left. \\frac { d }{ d\\xi  }  \\right| _{ \\xi =x } \\right) -1$$\n",
    "\n",
    "Al sustituir estas expresiones en $\\delta _{ h }$, obtenemos:\n",
    "\n",
    "$$\\delta _{ h }=exp\\left( h\\left. \\frac { d }{ d\\xi  }  \\right| _{ \\xi =x } \\right) -exp\\left( -h\\left. \\frac { d }{ d\\xi  }  \\right| _{ \\xi =x } \\right) $$\n",
    "\n",
    "El seno hiperbólico está representado en términos de exponenciales de la siguiente forma:\n",
    "\n",
    "$$sinhx=\\frac { { e }^{ x }-{ e }^{ -x } }{ 2 } $$\n",
    "\n",
    "De donde:\n",
    "\n",
    "$$\\delta _{ h }=2sinh\\left( h\\left. \\frac { d }{ d\\xi  }  \\right| _{ \\xi =x } \\right) $$\n",
    "\n",
    "Al despejar $\\left. \\frac{d}{d\\xi}\\right|_{\\xi=x}$, obtenemos:\n",
    "\n",
    "$$\\left. \\frac { d }{ d\\xi  }  \\right| _{ \\xi =x }=\\frac { 1 }{ h } { sinh }^{ -1 }\\left( \\frac { \\delta _{ h } }{ 2 }  \\right) $$\n",
    "\n",
    "Tenemos que:\n",
    "\n",
    "$$\\left. \\frac { d }{ d\\xi  }  \\right| _{ \\xi =x }=\\frac { df(x) }{ dx } =\\frac { 1 }{ h } { sinh }^{ -1 }\\left( \\frac { \\delta _{ h } }{ 2 }  \\right) f(x)$$\n",
    "\n",
    "Para calcular la serie de Taylor para $g(x)={ sinh }^{ -1 }\\left( \\frac { \\delta _{ h } }{ 2 }  \\right) $, considerando n=3, obtenemos:\n",
    "\n",
    "$$g(x)={ { sinh }^{ -1 }\\left( x \\right) +\\frac { 1 }{ \\sqrt { { x }^{ 2 }+1 }  }  }\\left( \\frac { \\delta _{ h } }{ 2 }  \\right) -\\frac { 1 }{ 4 } \\frac { x }{ { ({ x }^{ 2 }+1) }^{ 3/2 } } { \\left( \\frac { \\delta _{ h } }{ 2 }  \\right)  }^{ 2 }+\\frac { 1 }{ 6 } \\frac { { 2x }^{ 2 }-1 }{ { ({ x }^{ 2 }+1) }^{ 5/2 } } { \\left( \\frac { \\delta _{ h } }{ 2 }  \\right)  }^{ 3 } $$\n",
    "\n",
    "que evaluado en 0 es:\n",
    "\n",
    "$$g(0)=\\left( \\frac { \\delta _{ h } }{ 2 }  \\right) -\\frac { 1 }{ 6 } { \\left( \\frac { \\delta _{ h } }{ 2 }  \\right)  }^{ 3 }=\\frac { \\delta _{ h } }{ 2 } -\\frac { { \\delta _{ h } }^{ 3 } }{ 48 } $$\n",
    "\n",
    "Por lo que $f'(x)$ es igual a:\n",
    "\n",
    "$$f'(x)=\\frac { 1 }{ h } \\left( \\frac { \\delta _{ h }f(x) }{ 2 } -\\frac { { \\delta _{ h } }^{ 3 }f(x) }{ 48 }  \\right) +{ O }(h^{ 2 })$$"
   ]
  },
  {
   "cell_type": "code",
   "execution_count": null,
   "metadata": {
    "collapsed": true
   },
   "outputs": [],
   "source": []
  }
 ],
 "metadata": {
  "kernelspec": {
   "display_name": "Julia 0.6.0",
   "language": "julia",
   "name": "julia-0.6"
  },
  "language_info": {
   "file_extension": ".jl",
   "mimetype": "application/julia",
   "name": "julia",
   "version": "0.6.0"
  }
 },
 "nbformat": 4,
 "nbformat_minor": 2
}

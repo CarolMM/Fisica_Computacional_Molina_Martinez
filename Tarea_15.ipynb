{
 "cells": [
  {
   "cell_type": "code",
   "execution_count": 1,
   "metadata": {},
   "outputs": [
    {
     "data": {
      "text/plain": [
       "herramientas"
      ]
     },
     "execution_count": 1,
     "metadata": {},
     "output_type": "execute_result"
    }
   ],
   "source": [
    "module herramientas\n",
    "\n",
    "export Metodo_Newton \n",
    "\n",
    "\"\"\"Documentación Método_Newton. La función Método_Newton calcula las aproximaciones a las raíces de una función f. Sus entradas son f, la derivada de f y el punto inicial x0; se realizarán 200 iteraciones del método\"\"\"\n",
    "\n",
    "function Método_Newton(f,df,x0)   \n",
    "    x = x0                    \n",
    "    for i in 1:200                   # Se crea un ciclo for para realizar las iteraciones del método de Newton\n",
    "        x = x-f(x)/df(x)    \n",
    "    end\n",
    "    return x                         # La función arroja el valor de la aproximación de la raíz \n",
    "end\n",
    "\n",
    "export metodoNewton2 \n",
    "\n",
    "\"\"\"Documentación metodoNewton2. La función metodoNewton2 calcula las aproximaciones a las raíces de una función f, utilizando un ciclo while, que se ejecuta hasta que la diferencia entre los valores para la raíz calculada sea menor que una epsilon propuesta\"\"\"\n",
    "\n",
    "function metodoNewton2(f,df,x0,epsilon) \n",
    "    xold = x0                         # Establecemos nuestra xold igual al punto inicial que nos proporcionan y posteriormente asignamos a xnew el valor de xold.\n",
    "    xnew = xold\n",
    "    diferencia = 10                   # Establecemos una diferencia inicial mayor que la epsilon propuesta, para que pueda entrar al ciclo e inicializamos niteracion como cero.\n",
    "    niteracion = 0\n",
    "    while diferencia > epsilon        # Mientras la diferencia sea mayor a epsilon, se realiza el método de Newton.\n",
    "        xold = xnew                   # A x vieja se le asignará el valor de la aproximación nueva conforme se realicen las iteraciones.\n",
    "        xnew = xold-f(xold)/df(xold)\n",
    "        diferencia = abs(xnew-xold)   # Vemos cual es la diferencia entre la aproximación recién encontrada y la anterior.\n",
    "        niteracion = niteracion + 1   # Con esta asignación, el ciclo va ir avanzando.\n",
    "    end\n",
    "    return xnew               # La función regresará el valor de la aproximación y el resultado de evaluar ese número en la función.\n",
    "end\n",
    "\n",
    "export metodoconintervalos \n",
    "\n",
    "\"\"\"Documentación metodoconintervalos. La función metodoconintervalos calcula las aproximaciones a las raíces de una función f, utilizando el método de Newton y un amplio rango de condiciones iniciales. Sus entradas son f, df y el intervalo para el rango de condiciones iniciales\"\"\"\n",
    "\n",
    "function metodoconintervalos(f,df,intervalo)\n",
    "    list=zeros(length(intervalo))  # Creamos una lista que tenga igual número de entradas que el intervalo creado con linspace.\n",
    "    x = 0                          # Inicializamos\n",
    "    for i in 1:length(intervalo)   # El primer ciclo va a avanzar sobre la longitud del intervalo.\n",
    "        x = intervalo[i]           # A x se le va a ir asignando el valor i-ésimo del intervalo\n",
    "        for n in 1:200             # Con este ciclo se va a realizar la iteración del método de Newton, con un total de 200 iteraciones.\n",
    "            x = x-(f(x)/df(x))\n",
    "        end\n",
    "    list[i]=x;                     # En esta lista se van a ir guardando los valores de la raíz obtenida para cada iteración.\n",
    "    end\n",
    "    return list                           # Finalmente la función va a regresar la lista con las raíces obtenidas.\n",
    "end;\n",
    "\n",
    "export metodoNewton_epsilon\n",
    "\n",
    "\"\"\"Documentación metodoNewton_epsilon. La función metodoNewton_epsilon calcula  las aproximaciones a las raíces de una función f, utilizando el método de Newton y un amplio rango de condiciones iniciales. La función arroja la lista de las raíces que son diferentes hasta un epsilon propuesto. Sus entradas son f, df y el intervalo para el rango de condiciones iniciales.\"\"\"\n",
    "\n",
    "function metodoNewton_epsilon(f,df,intervalo)\n",
    "    epsilon = 0.000000001\n",
    "    t = []                                           #Arreglo vacío que almacenará las raíces que son distintas hasta un cierto epsilon.\n",
    "    lista = metodoconintervalos(f,df,intervalo)      #La lista va a contener las raíces obtenidas con el método llamado metodoconintervalos, considerando el intervalo creado con linspace.\n",
    "    push!(t,lista[1])                                #El primer elemento de la lista es el primer componente de la lista obtenida con el método de Newton para intervalos.\n",
    "    for i in 1:length(t)                             #Con el primer ciclo for, se va a realizar el procedimiento para cada elemento de t.\n",
    "        for k in 1:length(lista)                     #Con este ciclo se van a ir comparando elemento a elemento de la lista, para no incluir en el arreglo t, aquellos valores que sean iguales.\n",
    "            if abs(t[i]-lista[k])>epsilon            #Si el valor absoluto de la diferencia entre las raíces es menor que el epsilon propuesta, se anexa esa raíz(componente k-ésimo de la lista) al arreglo t utilizando push\n",
    "                push!(t,lista[k])\n",
    "            end\n",
    "        end\n",
    "        return t                                     #La función nos regresará el arreglo t con las raíces que son distintas hasta un cierto epsilon.                       \n",
    "    end\n",
    "end\n",
    "\n",
    "export metodo_Riemann\n",
    "\n",
    "\"\"\"Documentación Método_Riemann. Método que permite calcular la aproximación a una integral definida sobre un intervalo [a,b] utilizando diferencias finitas. Sus entradas son la función a integrar, los extremos del intervalo y el número de particiones del mismo\"\"\"\n",
    "\n",
    "function metodo_Riemann(f,a,b,n)   #Función que implementa el método del rectángulo, sus entradas son la función a integrar, los extremos del intervalo y el número de segmentos en que se va a dividir el intervalo original.\n",
    "    intervalo=(b-a)/n              #Considerando que los segmentos tengan la misma longitud, podemos obtener esta longitud haciendo el cociente de la resta de los extremos del intervalo entre el número de segmentos en que queremos separar el intervalo.\n",
    "    suma=0                         #En suma se va a ir guardando el valor de la implementación del método del rectángulo para cada segmento del intervalo. Inicializamos suma como cero.\n",
    "    x=zeros(1,n)                   #Aquí se van a ir guardando los valores de los puntos de cada segmento.\n",
    "    x[1]=a                         #El primer punto del intervalo es el extremo a\n",
    "    for i in 2:n                   #Con este ciclo for vamos a ir avanzando sobre los puntos del intervalo\n",
    "        x[i]=x[i-1]+intervalo      #El punto nuevo del intervalo se va a obtener sumando el punto anterior del intervalo (que para la primera vuelta del ciclo es a) más la longitud del segmento.\n",
    "        suma = suma + (x[i]-x[i-1])*f((x[i-1]+x[i])/2)   #Aquí vamos a anexar a suma el valor obtenindo aplicando la fórmula mostrada arriba para cada segmento del intervalo.\n",
    "    end\n",
    "    return suma                    #Finalmente la función nos va a arrojar el valor de la suma, que corresponde a la aproximación de la integral utilizando el método del rectángulo.\n",
    "end\n",
    "\n",
    "export metodo_del_trapecio\n",
    "\n",
    "\"\"\"Documentación Método_del_trapecio. Método que permite calcular la aproximación a una integral definida sobre un intervalo [a,b] utilizando el método del trapecio. Sus entradas son la función a integrar, los extremos del intervalo y el número de particiones del mismo\"\"\"\n",
    "\n",
    "function metodo_del_trapecio(f,a,b,n)   #Función que implementa el método del trapecio, sus entradas son la función a integrar, los extremos del intervalo y el número de segmentos en que se va a dividir el intervalo original.\n",
    "    intervalo=(b-a)/n              #Considerando que los segmentos tengan la misma longitud, podemos obtener esta longitud haciendo el cociente de la resta de los extremos del intervalo entre el número de segmentos en que queremos separar el intervalo.\n",
    "    suma=0                         #En suma se va a ir guardando el valor de la implementación del método del del trapecio para cada segmento del intervalo. Inicializamos suma como cero.\n",
    "    x=zeros(1,n)                   #Aquí se van a ir guardando los valores de cada segmento.\n",
    "    x[1]=a                         #El primer punto del intervalo es el extremo a\n",
    "    for i in 2:n                   #Con este ciclo for vamos a ir avanzando sobre los puntos del intervalo\n",
    "        x[i]=x[i-1]+intervalo      #El punto nuevo del intervalo se va a obtener sumando el punto anterior del intervalo (que para la primera vuelta del ciclo es a) más la longitud del segmento.\n",
    "        suma = suma + ((x[i]-x[i-1]))*((f(x[i-1])+f(x[i]))/2)   #Aquí vamos a anexar a suma el valor obtenindo aplicando la fórmula mostrada arriba para cada segmento del intervalo.\n",
    "    end\n",
    "    return suma                    #Finalmente la función nos va a arrojar el valor de la suma, que corresponde a la aproximación de la integral utilizando el método del trapecio.\n",
    "end\n",
    "\n",
    "export metodo_de_Simpson\n",
    "\n",
    "\"\"\"Documentación Método_de_Simpson. Método que permite calcular la aproximación a una integral definida sobre un intervalo [a,b] utilizando el método de Simpson. Sus entradas son la función a integrar, los extremos del intervalo y el número de particiones del mismo\"\"\"\n",
    "\n",
    "function metodo_de_Simpson(f,a,b,n) #Función que implementa el método de Simpson, sus entradas son la función a integrar, los extremos del intervalo y el número de segmentos en que se va a dividir el intervalo original.\n",
    "    intervalo=(b-a)/n               #Considerando que los segmentos tengan la misma longitud, podemos obtener esta longitud haciendo el cociente de la resta de los extremos del intervalo entre el número de segmentos en que queremos separar el intervalo.\n",
    "    suma=0                           #En suma se va a ir guardando el valor de la implementación del método del Simpson para cada segmento del intervalo. Inicializamos suma como cero.\n",
    "    x=zeros(1,n)                     #Aquí se van a ir guardando los valores de los puntos para cada segmento.\n",
    "    x[1]=a                           #El primer punto del intervalo es el extremo a\n",
    "    for i in 2:n                     #Con este ciclo for vamos a ir avanzando sobre los puntos del intervalo\n",
    "        x[i]=x[i-1]+intervalo        #El punto nuevo del intervalo se va a obtener sumando el punto anterior del intervalo (que para la primera vuelta del ciclo es a) más la longitud del segmento.\n",
    "        suma = suma + (1/6)*(x[i]-x[i-1])*(f(x[i-1])+4*f((x[i-1]+x[i])/2)+f(x[i]))    #Aquí vamos a anexar a suma el valor obtenindo aplicando la fórmula mostrada arriba para cada segmento del intervalo.\n",
    "    end\n",
    "    return suma                       #Finalmente la función nos va a arrojar el valor de la suma, que corresponde a la aproximación de la integral utilizando el método de Simpson.\n",
    "end\n",
    "\n",
    "export Método_Euler_Explícito\n",
    "\n",
    "\"\"\"Documentación del método de Euler explícito. Método de integración numérica que permite resolver ecuaciones diferenciales ordinarias. Sus entradas son la función f, los tiempos inicial y final, el tamaño de paso y el punto inicial x0.\"\"\"\n",
    "\n",
    "function Método_Euler_Explícito(f,t0,x0,tf,h)  #Función eulerMethod cuyas entradas son la función f, los tiempos inicial y final, el punto inicial x0 y el tamaño de paso h.\n",
    "    t = linspace(t0,tf,(tf-t0)/h)   #Creamos un intervalo cuyos extremos son los tiempos inicial y final, que tiene n elementos, considerando n=(tf-t0)/h\n",
    "    x=zeros((tf-t0)/h)            #Creamos un arreglo de n elementos donde se irán guardando las x´s obtenidas con el método de Euler.\n",
    "    x[1]=x0                         #Condición inicial\n",
    "    for i in 2:length(t)            #Ciclo for para implementar la fórmula de recurrencia mostrada arriba.\n",
    "        x[i] = x[i-1] + h*f(t[i-1],x[i-1])\n",
    "    end\n",
    "    return(t,x)                     #La función eulerMethod arroja los valores obtenidospara t y x.\n",
    "end\n",
    "\n",
    "export Metodo_Euler_explícito_dimensiones\n",
    "\n",
    "\"\"\"Documentación del método de Euler explícito, independiente de las dimensiones del sistema. Sus entradas son la función f, el punto inicial x0 y list que contiene los tiempos inicial y final y el tamaño de paso h.\"\"\"\n",
    "\n",
    "function Metodo_Euler_explícito_dimensiones(f,list,x0)    # Función metodo_euler cuyas entradas son la función f, list que es el intervalo de tiempo y el punto inicial x0.\n",
    "    x = x0                          # Condición inicial\n",
    "    h = list[2]-list[1]             # El tamaño de paso h se obtiene de restar los primeros 2 elementos de la lista.\n",
    "    listx = []                      # Arreglo vacío que guardará los resultados obtenidos con este método.\n",
    "    push!(listx,x)                  # Agregamos al arreglo listx, el punto inicial con push\n",
    "    for i in 2:length(list)         # Ciclo for que implementará la fórmula de recurrencia mostrada arriba para el método de Euler \n",
    "        t = i*h\n",
    "        x = x + f(x,t)*h\n",
    "        push!(listx,x)              # Para cada vuelta del ciclo, se agrega el resultado obtenido al arreglo listx \n",
    "    end\n",
    "    return listx                    # La función metodo_euler regresa listx\n",
    "end\n",
    "\n",
    "export Método_Euler_modificado\n",
    "\n",
    "\"\"\"Documentación del método de Euler modificado, o punto medio. Método de integración numérica que permite resolver ecuaciones diferenciales ordinarias. Sus entradas son la función f, los tiempos inicial y final, el tamaño de paso y el punto inicial x0.\"\"\"\n",
    "\n",
    "function Método_Euler_modificado(f,t0,x0,tf,h)  # Función Método_Euler_modificado cuyas entradas son la función f, los tiempos inicial y final, el punto inicial x0 y el tamaño de paso h.\n",
    "    t = linspace(t0,tf,(tf-t0)/h)     # Creamos un intervalo cuyos extremos son los tiempos inicial y final, con n elementos, considerando n=(tf-t0)/h\n",
    "    t1=zeros((tf-t0)/h)               # Creamos un arreglo de n elementos donde se irán guardando los tiempos medios obtenidos.\n",
    "    x=zeros((tf-t0)/h)                # Creamos un arreglo de n elementos donde se irán guardando las x´s obtenidas con el método de Euler modificado.\n",
    "    x[1]=x0                           # Condición inicial\n",
    "    t1[1]=t0                          # El primer elemento del arreglo para los tiempos medios es igual al tiempo inicial.\n",
    "    for i in 1:length(t)-1            # Ciclo for para implementar la fórmula de recurrencia mostrada arriba.\n",
    "        t1[i+1]=(t[i+1]+t[i])/2       # Fórmula para calcular los tiempos medios.\n",
    "        x[i+1] = x[i] + h*f(x[i]+(h/2)*f(x[i],t[i]),t1[i+1])                       \n",
    "    end\n",
    "    return(t1,x)                      # La función Método_Euler_modificado arroja los valores obtenidos para t1 y x.\n",
    "end\n",
    "\n",
    "export metodoNewton \n",
    "\n",
    "function metodoNewton(f,df,x0,t)   \n",
    "    x = x0                    \n",
    "    for i in 1:200                   # Se crea un ciclo for para realizar las iteraciones del método de Newton\n",
    "        x = x-f(x)/df(x)    \n",
    "    end\n",
    "    return x                         # La función arroja el valor de la aproximación de la raíz \n",
    "end\n",
    "\n",
    "export Método_implícito_Euler_dimensiones\n",
    "\n",
    "\"\"\"Documentación del método de Euler implícito. Método de integración numérica que permite resolver ecuaciones diferenciales ordinarias. Sus entradas son la función f, la derivada de la función f, los tiempos inicial y final, el tamaño de paso y el punto inicial x0. Este método hace uso del método de Newton para aproximación de raíces.\"\"\"\n",
    "\n",
    "function Método_implícito_Euler(f,df,t0,tf,h,x0)  # Función Método_implícito_Euler cuyas entradas son la función f, la derivada de la función f, los tiempos inicial y final, el punto inicial x0 y el tamaño de paso h.\n",
    "    t = linspace(t0,tf,(tf-t0)/h)                 # Creamos un intervalo cuyos extremos son los tiempos inicial y final, que tiene n elementos, considerando n=(tf-t0)/h\n",
    "    listax=zeros((tf-t0)/h)                       # Creamos un arreglo de n elementos donde se irán guardando las x´s obtenidas con el método.\n",
    "    x = x0                                        # Condición inicial\n",
    "    listax[1] = x0\n",
    "    for i in 2:length(t)                          # Ciclo for para implementar la fórmula de recurrencia mostrada arriba.\n",
    "        g(x) = x - listax[i-1] - h*f(x,t[i])\n",
    "        dg(x) = 1 - h*df(x,t[i])\n",
    "        x = metodoNewton(g,dg,listax[i-1],t[i])   # Utilizando el método de Newton mostrado arriba\n",
    "        listax[i] = x\n",
    "    end\n",
    "    return(t,listax)                              # La función Método_implícito_Euler arroja los valores obtenidos para t y listax.\n",
    "end\n",
    "\n",
    "export runge_kutta_4\n",
    "\n",
    "\"\"\"Documentación del método de Runge-Kutta de orden 4. Método de integración numérica que permite resolver ecuaciones diferenciales ordinarias. Sus entradas son la función f, los tiempos inicial y final, el tamaño de paso y el punto inicial x0.\"\"\"\n",
    "\n",
    "function runge_kutta_4(f,x0,t0,tf,h)  # Función Runge-Kutta cuyas entradas son la función f, los tiempos inicial y final, el punto inicial x0 y el tamaño de paso h.\n",
    "    n=round((tf-t0)/h)+1               \n",
    "    listt=linspace(t0,tf,n) \n",
    "    listx = zeros(n)              # Creamos un arreglo de n elementos, considerando n=(tf-t0)/h, donde se irán guardando las x´s obtenidas con el método de Runge Kutta.\n",
    "    listx[1] = x0 \n",
    "    for i in 1:length(listx)-1    # Ciclo for para implementar la fórmula de recurrencia mostrada arriba.\n",
    "        k1 = f(listx[i], listt[i])\n",
    "        k2 = f(listx[i] + h*(k1)/2, listt[i+1])\n",
    "        k3 = f(listx[i] + h*(k2)/2, listt[i+1])\n",
    "        k4 = f(listx[i] + h*(k3), listt[i],)\n",
    "        listx[i+1] = listx[i] + h/6*(k1 + 2*(k2) + 2*(k3) + k4)\n",
    "    end\n",
    "    return listt,listx    # La función Runge-Kutta arroja los valores obtenidos para listt y listx.\n",
    "end\n",
    "\n",
    "export Metodo_Runge_Kutta_dimensiones\n",
    "\n",
    "\"\"\"Documentación del método de Runge-Kutta de orden 4, independiente de las dimensiones del sistema. Sus entradas son la función f, el punto inicial x0 y list que contiene los tiempos inicial y final y el tamaño de paso.\"\"\"\n",
    "\n",
    "function Metodo_Runge_Kutta_dimensiones(f,list,x0)    # Función metodo_Runge_Kutta cuyas entradas son la función f, list que es el intervalo de tiempo y el punto inicial x0.\n",
    "    x = x0                          # Condición inicial\n",
    "    h = list[2]-list[1]             # El tamaño de paso h se obtiene de restar los primeros 2 elementos de la lista.\n",
    "    listx = []                      # Arreglo vacío que guardará los resultados obtenidos con este método.\n",
    "    push!(listx,x)                  # Agregamos al arreglo listx, el punto inicial con push\n",
    "    for i in 2:length(list)         # Ciclo for que implementará las fórmulas de recurrencia mostrada arriba para el método de Runge-Kutta \n",
    "        t = i*h\n",
    "        k1 = f(x,t);\n",
    "        k2 = f(x+(h/2)*k1,t+(h/2));\n",
    "        k3 = f(x+(h/2)*k2, t+(h/2));\n",
    "        k4 = f(x+h*k3, t);\n",
    "        x = x+(h/6)*(k1+2*k2+2*k3+k4);\n",
    "        push!(listx,x)              # Para cada vuelta del ciclo, se agrega el resultado obtenido al arreglo listx \n",
    "    end\n",
    "    return listx                    # La función metodo_euler regresa listx\n",
    "end\n",
    "end"
   ]
  },
  {
   "cell_type": "code",
   "execution_count": 2,
   "metadata": {},
   "outputs": [
    {
     "name": "stderr",
     "output_type": "stream",
     "text": [
      "WARNING: could not import herramientas.jl into Main\n"
     ]
    }
   ],
   "source": [
    "import herramientas.jl"
   ]
  },
  {
   "cell_type": "code",
   "execution_count": 3,
   "metadata": {},
   "outputs": [
    {
     "data": {
      "text/plain": [
       "1.414213562373095"
      ]
     },
     "execution_count": 3,
     "metadata": {},
     "output_type": "execute_result"
    }
   ],
   "source": [
    "herramientas.Método_Newton(x->x^2-2,x->2x,1)"
   ]
  },
  {
   "cell_type": "code",
   "execution_count": 4,
   "metadata": {},
   "outputs": [
    {
     "data": {
      "text/markdown": [
       "Documentación Método_Newton. La función Método_Newton calcula las aproximaciones a las raíces de una función f. Sus entradas son f, la derivada de f y el punto inicial x0; se realizarán 200 iteraciones del método\n"
      ],
      "text/plain": [
       "Documentación Método_Newton. La función Método_Newton calcula las aproximaciones a las raíces de una función f. Sus entradas son f, la derivada de f y el punto inicial x0; se realizarán 200 iteraciones del método\n"
      ]
     },
     "execution_count": 4,
     "metadata": {},
     "output_type": "execute_result"
    }
   ],
   "source": [
    "?herramientas.Método_Newton"
   ]
  },
  {
   "cell_type": "code",
   "execution_count": 5,
   "metadata": {},
   "outputs": [
    {
     "data": {
      "text/plain": [
       "1.4142135623730951"
      ]
     },
     "execution_count": 5,
     "metadata": {},
     "output_type": "execute_result"
    }
   ],
   "source": [
    "herramientas.metodoNewton2(x->x^2-2,x->2x,1,0.0000001) "
   ]
  },
  {
   "cell_type": "code",
   "execution_count": 6,
   "metadata": {},
   "outputs": [
    {
     "data": {
      "text/markdown": [
       "Documentación metodoNewton2. La función metodoNewton2 calcula las aproximaciones a las raíces de una función f, utilizando un ciclo while, que se ejecuta hasta que la diferencia entre los valores para la raíz calculada sea menor que una epsilon propuesta\n"
      ],
      "text/plain": [
       "Documentación metodoNewton2. La función metodoNewton2 calcula las aproximaciones a las raíces de una función f, utilizando un ciclo while, que se ejecuta hasta que la diferencia entre los valores para la raíz calculada sea menor que una epsilon propuesta\n"
      ]
     },
     "execution_count": 6,
     "metadata": {},
     "output_type": "execute_result"
    }
   ],
   "source": [
    "?herramientas.metodoNewton2"
   ]
  },
  {
   "cell_type": "code",
   "execution_count": 7,
   "metadata": {},
   "outputs": [
    {
     "data": {
      "text/plain": [
       "3-element Array{Float64,1}:\n",
       " 1.83929\n",
       " 1.83929\n",
       " 1.83929"
      ]
     },
     "execution_count": 7,
     "metadata": {},
     "output_type": "execute_result"
    }
   ],
   "source": [
    "herramientas.metodoconintervalos(x->x^3-x^2-x-1,x->3x^2-2x-1,linspace(0,7,3))"
   ]
  },
  {
   "cell_type": "code",
   "execution_count": 8,
   "metadata": {},
   "outputs": [
    {
     "data": {
      "text/markdown": [
       "Documentación metodoconintervalos. La función metodoconintervalos calcula las aproximaciones a las raíces de una función f, utilizando el método de Newton y un amplio rango de condiciones iniciales. Sus entradas son f, df y el intervalo para el rango de condiciones iniciales\n"
      ],
      "text/plain": [
       "Documentación metodoconintervalos. La función metodoconintervalos calcula las aproximaciones a las raíces de una función f, utilizando el método de Newton y un amplio rango de condiciones iniciales. Sus entradas son f, df y el intervalo para el rango de condiciones iniciales\n"
      ]
     },
     "execution_count": 8,
     "metadata": {},
     "output_type": "execute_result"
    }
   ],
   "source": [
    "?herramientas.metodoconintervalos"
   ]
  },
  {
   "cell_type": "code",
   "execution_count": 9,
   "metadata": {},
   "outputs": [
    {
     "data": {
      "text/plain": [
       "1-element Array{Any,1}:\n",
       " 1.83929"
      ]
     },
     "execution_count": 9,
     "metadata": {},
     "output_type": "execute_result"
    }
   ],
   "source": [
    "herramientas.metodoNewton_epsilon(x->x^3-x^2-x-1,x->3x^2-2x-1,linspace(0,7,3))"
   ]
  },
  {
   "cell_type": "code",
   "execution_count": 10,
   "metadata": {},
   "outputs": [
    {
     "data": {
      "text/markdown": [
       "Documentación metodoNewton_epsilon. La función metodoNewton_epsilon calcula  las aproximaciones a las raíces de una función f, utilizando el método de Newton y un amplio rango de condiciones iniciales. La función arroja la lista de las raíces que son diferentes hasta un epsilon propuesto. Sus entradas son f, df y el intervalo para el rango de condiciones iniciales.\n"
      ],
      "text/plain": [
       "Documentación metodoNewton_epsilon. La función metodoNewton_epsilon calcula  las aproximaciones a las raíces de una función f, utilizando el método de Newton y un amplio rango de condiciones iniciales. La función arroja la lista de las raíces que son diferentes hasta un epsilon propuesto. Sus entradas son f, df y el intervalo para el rango de condiciones iniciales.\n"
      ]
     },
     "execution_count": 10,
     "metadata": {},
     "output_type": "execute_result"
    }
   ],
   "source": [
    "?herramientas.metodoNewton_epsilon"
   ]
  },
  {
   "cell_type": "code",
   "execution_count": 11,
   "metadata": {},
   "outputs": [
    {
     "data": {
      "text/plain": [
       "1.5803356240001285"
      ]
     },
     "execution_count": 11,
     "metadata": {},
     "output_type": "execute_result"
    }
   ],
   "source": [
    "herramientas.metodo_Riemann(x->x^3+x^2+1,0,1,1000)"
   ]
  },
  {
   "cell_type": "code",
   "execution_count": 12,
   "metadata": {},
   "outputs": [
    {
     "data": {
      "text/markdown": [
       "Documentación Método_del_trapecio. Método que permite calcular la aproximación a una integral definida sobre un intervalo [a,b] utilizando el método del trapecio. Sus entradas son la función a integrar, los extremos del intervalo y el número de particiones del mismo\n"
      ],
      "text/plain": [
       "Documentación Método_del_trapecio. Método que permite calcular la aproximación a una integral definida sobre un intervalo [a,b] utilizando el método del trapecio. Sus entradas son la función a integrar, los extremos del intervalo y el número de particiones del mismo\n"
      ]
     },
     "execution_count": 12,
     "metadata": {},
     "output_type": "execute_result"
    }
   ],
   "source": [
    "?herramientas.metodo_del_trapecio"
   ]
  },
  {
   "cell_type": "code",
   "execution_count": 13,
   "metadata": {},
   "outputs": [
    {
     "data": {
      "text/plain": [
       "1.5803362480005028"
      ]
     },
     "execution_count": 13,
     "metadata": {},
     "output_type": "execute_result"
    }
   ],
   "source": [
    "herramientas.metodo_del_trapecio(x->x^3+x^2+1,0,1,1000)"
   ]
  },
  {
   "cell_type": "code",
   "execution_count": 14,
   "metadata": {},
   "outputs": [
    {
     "data": {
      "text/markdown": [
       "Documentación Método_del_trapecio. Método que permite calcular la aproximación a una integral definida sobre un intervalo [a,b] utilizando el método del trapecio. Sus entradas son la función a integrar, los extremos del intervalo y el número de particiones del mismo\n"
      ],
      "text/plain": [
       "Documentación Método_del_trapecio. Método que permite calcular la aproximación a una integral definida sobre un intervalo [a,b] utilizando el método del trapecio. Sus entradas son la función a integrar, los extremos del intervalo y el número de particiones del mismo\n"
      ]
     },
     "execution_count": 14,
     "metadata": {},
     "output_type": "execute_result"
    }
   ],
   "source": [
    "?herramientas.metodo_del_trapecio"
   ]
  },
  {
   "cell_type": "code",
   "execution_count": 15,
   "metadata": {},
   "outputs": [
    {
     "data": {
      "text/plain": [
       "1.5803358320002538"
      ]
     },
     "execution_count": 15,
     "metadata": {},
     "output_type": "execute_result"
    }
   ],
   "source": [
    "herramientas.metodo_de_Simpson(x->x^3+x^2+1,0,1,1000)"
   ]
  },
  {
   "cell_type": "code",
   "execution_count": 16,
   "metadata": {},
   "outputs": [
    {
     "data": {
      "text/markdown": [
       "Documentación Método_de_Simpson. Método que permite calcular la aproximación a una integral definida sobre un intervalo [a,b] utilizando el método de Simpson. Sus entradas son la función a integrar, los extremos del intervalo y el número de particiones del mismo\n"
      ],
      "text/plain": [
       "Documentación Método_de_Simpson. Método que permite calcular la aproximación a una integral definida sobre un intervalo [a,b] utilizando el método de Simpson. Sus entradas son la función a integrar, los extremos del intervalo y el número de particiones del mismo\n"
      ]
     },
     "execution_count": 16,
     "metadata": {},
     "output_type": "execute_result"
    }
   ],
   "source": [
    "?herramientas.metodo_de_Simpson"
   ]
  },
  {
   "cell_type": "code",
   "execution_count": 17,
   "metadata": {},
   "outputs": [
    {
     "data": {
      "text/plain": [
       "(0.0:0.01002004008016032:5.0, [1.0, 0.975, 0.950625, 0.926859, 0.903688, 0.881096, 0.859068, 0.837592, 0.816652, 0.796236  …  4.09507e-6, 3.9927e-6, 3.89288e-6, 3.79556e-6, 3.70067e-6, 3.60815e-6, 3.51795e-6, 3.43e-6, 3.34425e-6, 3.26064e-6])"
      ]
     },
     "execution_count": 17,
     "metadata": {},
     "output_type": "execute_result"
    }
   ],
   "source": [
    "herramientas.Método_Euler_Explícito((t,x)->-2.5*x,0,1,5,0.01) "
   ]
  },
  {
   "cell_type": "code",
   "execution_count": 18,
   "metadata": {},
   "outputs": [
    {
     "data": {
      "text/markdown": [
       "Documentación del método de Euler explícito. Método de integración numérica que permite resolver ecuaciones diferenciales ordinarias. Sus entradas son la función f, los tiempos inicial y final, el tamaño de paso y el punto inicial x0.\n"
      ],
      "text/plain": [
       "Documentación del método de Euler explícito. Método de integración numérica que permite resolver ecuaciones diferenciales ordinarias. Sus entradas son la función f, los tiempos inicial y final, el tamaño de paso y el punto inicial x0.\n"
      ]
     },
     "execution_count": 18,
     "metadata": {},
     "output_type": "execute_result"
    }
   ],
   "source": [
    "?herramientas.Método_Euler_Explícito"
   ]
  },
  {
   "cell_type": "code",
   "execution_count": 19,
   "metadata": {},
   "outputs": [
    {
     "data": {
      "text/plain": [
       "50000-element Array{Any,1}:\n",
       " [1, 0]                 \n",
       " [1.0, -0.00100002]     \n",
       " [0.999999, -0.00200004]\n",
       " [0.999997, -0.00300006]\n",
       " [0.999994, -0.00400008]\n",
       " [0.99999, -0.00500009] \n",
       " [0.999985, -0.0060001] \n",
       " [0.999979, -0.00700011]\n",
       " [0.999972, -0.0080001] \n",
       " [0.999964, -0.0090001] \n",
       " [0.999955, -0.0100001] \n",
       " [0.999945, -0.0110001] \n",
       " [0.999934, -0.012]     \n",
       " ⋮                      \n",
       " [0.986366, 0.279899]   \n",
       " [0.986646, 0.278913]   \n",
       " [0.986924, 0.277926]   \n",
       " [0.987202, 0.276939]   \n",
       " [0.987479, 0.275952]   \n",
       " [0.987755, 0.274964]   \n",
       " [0.98803, 0.273977]    \n",
       " [0.988304, 0.272988]   \n",
       " [0.988577, 0.272]      \n",
       " [0.988849, 0.271012]   \n",
       " [0.98912, 0.270023]    \n",
       " [0.98939, 0.269034]    "
      ]
     },
     "execution_count": 19,
     "metadata": {},
     "output_type": "execute_result"
    }
   ],
   "source": [
    "herramientas.Metodo_Euler_explícito_dimensiones((x,t)->[x[2],-x[1]],linspace(0,50,50000),[1,0])"
   ]
  },
  {
   "cell_type": "code",
   "execution_count": 20,
   "metadata": {},
   "outputs": [
    {
     "data": {
      "text/markdown": [
       "Documentación del método de Euler explícito, independiente de las dimensiones del sistema. Sus entradas son la función f, el punto inicial x0 y list que contiene los tiempos inicial y final y el tamaño de paso h.\n"
      ],
      "text/plain": [
       "Documentación del método de Euler explícito, independiente de las dimensiones del sistema. Sus entradas son la función f, el punto inicial x0 y list que contiene los tiempos inicial y final y el tamaño de paso h.\n"
      ]
     },
     "execution_count": 20,
     "metadata": {},
     "output_type": "execute_result"
    }
   ],
   "source": [
    "?herramientas.Metodo_Euler_explícito_dimensiones"
   ]
  },
  {
   "cell_type": "code",
   "execution_count": 21,
   "metadata": {},
   "outputs": [
    {
     "data": {
      "text/plain": [
       "(0.0:0.01002004008016032:5.0, [1.0, 0.97561, 0.951814, 0.928599, 0.905951, 0.883854, 0.862297, 0.841265, 0.820747, 0.800728  …  5.56296e-6, 5.42728e-6, 5.29491e-6, 5.16576e-6, 5.03977e-6, 4.91685e-6, 4.79692e-6, 4.67993e-6, 4.56578e-6, 4.45442e-6])"
      ]
     },
     "execution_count": 21,
     "metadata": {},
     "output_type": "execute_result"
    }
   ],
   "source": [
    "herramientas.Método_implícito_Euler((x,t)->-2.5*x,(x,t)->-2.5,0,5,0.01,1)"
   ]
  },
  {
   "cell_type": "code",
   "execution_count": 22,
   "metadata": {},
   "outputs": [
    {
     "data": {
      "text/markdown": [
       "Documentación del método de Euler implícito. Método de integración numérica que permite resolver ecuaciones diferenciales ordinarias. Sus entradas son la función f, la derivada de la función f, los tiempos inicial y final, el tamaño de paso y el punto inicial x0. Este método hace uso del método de Newton para aproximación de raíces.\n"
      ],
      "text/plain": [
       "Documentación del método de Euler implícito. Método de integración numérica que permite resolver ecuaciones diferenciales ordinarias. Sus entradas son la función f, la derivada de la función f, los tiempos inicial y final, el tamaño de paso y el punto inicial x0. Este método hace uso del método de Newton para aproximación de raíces.\n"
      ]
     },
     "execution_count": 22,
     "metadata": {},
     "output_type": "execute_result"
    }
   ],
   "source": [
    "?herramientas.Método_implícito_Euler"
   ]
  },
  {
   "cell_type": "code",
   "execution_count": 23,
   "metadata": {},
   "outputs": [
    {
     "data": {
      "text/plain": [
       "([0.0, 0.00501002, 0.0150301, 0.0250501, 0.0350701, 0.0450902, 0.0551102, 0.0651303, 0.0751503, 0.0851703  …  4.90481, 4.91483, 4.92485, 4.93487, 4.94489, 4.95491, 4.96493, 4.97495, 4.98497, 4.99499], [1.0, 0.975313, 0.951234, 0.927751, 0.904847, 0.882509, 0.860722, 0.839473, 0.818748, 0.798535  …  4.79134e-6, 4.67306e-6, 4.55769e-6, 4.44517e-6, 4.33543e-6, 4.2284e-6, 4.12401e-6, 4.0222e-6, 3.9229e-6, 3.82606e-6])"
      ]
     },
     "execution_count": 23,
     "metadata": {},
     "output_type": "execute_result"
    }
   ],
   "source": [
    "herramientas.Método_Euler_modificado((x,t)->-2.5*x,0,1,5,0.01)"
   ]
  },
  {
   "cell_type": "code",
   "execution_count": 24,
   "metadata": {},
   "outputs": [
    {
     "data": {
      "text/markdown": [
       "Documentación del método de Euler modificado, o punto medio. Método de integración numérica que permite resolver ecuaciones diferenciales ordinarias. Sus entradas son la función f, los tiempos inicial y final, el tamaño de paso y el punto inicial x0.\n"
      ],
      "text/plain": [
       "Documentación del método de Euler modificado, o punto medio. Método de integración numérica que permite resolver ecuaciones diferenciales ordinarias. Sus entradas son la función f, los tiempos inicial y final, el tamaño de paso y el punto inicial x0.\n"
      ]
     },
     "execution_count": 24,
     "metadata": {},
     "output_type": "execute_result"
    }
   ],
   "source": [
    "?herramientas.Método_Euler_modificado"
   ]
  },
  {
   "cell_type": "code",
   "execution_count": 25,
   "metadata": {},
   "outputs": [
    {
     "data": {
      "text/plain": [
       "(0.0:0.01:5.0, [1.0, 0.97531, 0.951229, 0.927743, 0.904837, 0.882497, 0.860708, 0.839457, 0.818731, 0.798516  …  4.66697e-6, 4.55174e-6, 4.43936e-6, 4.32975e-6, 4.22285e-6, 4.11859e-6, 4.0169e-6, 3.91772e-6, 3.82099e-6, 3.72665e-6])"
      ]
     },
     "execution_count": 25,
     "metadata": {},
     "output_type": "execute_result"
    }
   ],
   "source": [
    "herramientas.runge_kutta_4((x,t)->-2.5*x,1,0,5,0.01)"
   ]
  },
  {
   "cell_type": "code",
   "execution_count": 26,
   "metadata": {},
   "outputs": [
    {
     "data": {
      "text/markdown": [
       "Documentación del método de Runge-Kutta de orden 4. Método de integración numérica que permite resolver ecuaciones diferenciales ordinarias. Sus entradas son la función f, los tiempos inicial y final, el tamaño de paso y el punto inicial x0.\n"
      ],
      "text/plain": [
       "Documentación del método de Runge-Kutta de orden 4. Método de integración numérica que permite resolver ecuaciones diferenciales ordinarias. Sus entradas son la función f, los tiempos inicial y final, el tamaño de paso y el punto inicial x0.\n"
      ]
     },
     "execution_count": 26,
     "metadata": {},
     "output_type": "execute_result"
    }
   ],
   "source": [
    "?herramientas.runge_kutta_4"
   ]
  },
  {
   "cell_type": "code",
   "execution_count": 27,
   "metadata": {},
   "outputs": [
    {
     "data": {
      "text/plain": [
       "50000-element Array{Any,1}:\n",
       " [1, 0]                 \n",
       " [0.999999, -0.00100002]\n",
       " [0.999998, -0.00200004]\n",
       " [0.999995, -0.00300006]\n",
       " [0.999992, -0.00400007]\n",
       " [0.999987, -0.00500008]\n",
       " [0.999982, -0.00600008]\n",
       " [0.999975, -0.00700008]\n",
       " [0.999968, -0.00800007]\n",
       " [0.999959, -0.00900006]\n",
       " [0.99995, -0.01]       \n",
       " [0.999939, -0.011]     \n",
       " [0.999928, -0.012]     \n",
       " ⋮                      \n",
       " [0.962022, 0.272974]   \n",
       " [0.962294, 0.272011]   \n",
       " [0.962566, 0.271049]   \n",
       " [0.962836, 0.270086]   \n",
       " [0.963106, 0.269123]   \n",
       " [0.963374, 0.26816]    \n",
       " [0.963642, 0.267196]   \n",
       " [0.963909, 0.266233]   \n",
       " [0.964175, 0.265269]   \n",
       " [0.964439, 0.264304]   \n",
       " [0.964703, 0.26334]    \n",
       " [0.964966, 0.262375]   "
      ]
     },
     "execution_count": 27,
     "metadata": {},
     "output_type": "execute_result"
    }
   ],
   "source": [
    "herramientas.Metodo_Runge_Kutta_dimensiones((x,t)->[x[2],-x[1]],linspace(0,50,50000),[1,0])"
   ]
  },
  {
   "cell_type": "code",
   "execution_count": 28,
   "metadata": {},
   "outputs": [
    {
     "data": {
      "text/markdown": [
       "Documentación del método de Runge-Kutta de orden 4, independiente de las dimensiones del sistema. Sus entradas son la función f, el punto inicial x0 y list que contiene los tiempos inicial y final y el tamaño de paso.\n"
      ],
      "text/plain": [
       "Documentación del método de Runge-Kutta de orden 4, independiente de las dimensiones del sistema. Sus entradas son la función f, el punto inicial x0 y list que contiene los tiempos inicial y final y el tamaño de paso.\n"
      ]
     },
     "execution_count": 28,
     "metadata": {},
     "output_type": "execute_result"
    }
   ],
   "source": [
    "?herramientas.Metodo_Runge_Kutta_dimensiones"
   ]
  },
  {
   "cell_type": "code",
   "execution_count": null,
   "metadata": {},
   "outputs": [],
   "source": []
  }
 ],
 "metadata": {
  "kernelspec": {
   "display_name": "Julia 0.6.0",
   "language": "julia",
   "name": "julia-0.6"
  },
  "language_info": {
   "file_extension": ".jl",
   "mimetype": "application/julia",
   "name": "julia",
   "version": "0.6.0"
  }
 },
 "nbformat": 4,
 "nbformat_minor": 2
}

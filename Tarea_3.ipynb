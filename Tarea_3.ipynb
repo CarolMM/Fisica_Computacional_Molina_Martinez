{
 "cells": [
  {
   "cell_type": "markdown",
   "metadata": {},
   "source": [
    "## Rutina que calcula raíces de la función\n",
    "\n",
    "$$x \\tan(x)=\\sqrt{A-x^2},$$"
   ]
  },
  {
   "cell_type": "code",
   "execution_count": 17,
   "metadata": {
    "collapsed": false
   },
   "outputs": [
    {
     "data": {
      "text/plain": [
       "f (generic function with 1 method)"
      ]
     },
     "execution_count": 17,
     "metadata": {},
     "output_type": "execute_result"
    }
   ],
   "source": [
    "A=10.0                   # Función de la que queremos obtener raíces\n",
    "function f(x)\n",
    "   x*tan(x)-sqrt(complex((A-x^2)))\n",
    "end"
   ]
  },
  {
   "cell_type": "code",
   "execution_count": 8,
   "metadata": {
    "collapsed": false
   },
   "outputs": [
    {
     "data": {
      "text/plain": [
       "df (generic function with 1 method)"
      ]
     },
     "execution_count": 8,
     "metadata": {},
     "output_type": "execute_result"
    }
   ],
   "source": [
    "function df(x)          # Derivada de la función\n",
    "    x*sec(x)*sec(x)+tan(x)+x/(sqrt(complex((A-x^2))))\n",
    "end"
   ]
  },
  {
   "cell_type": "markdown",
   "metadata": {},
   "source": [
    "A continuación definimos una función para el método de Newton utilizando un ciclo while, sus entradas serán el punto inicial y una epsilon de error para la aproximadción de la raíz."
   ]
  },
  {
   "cell_type": "code",
   "execution_count": null,
   "metadata": {
    "collapsed": false
   },
   "outputs": [],
   "source": [
    "function metodoNewton2(x0,epsilon) \n",
    "    xold = x0                         #Establecemos nuestra xold igual al punto inicial que nos proporcionan y posteriormente                                         asignamos a xnew el valor de xold.#\n",
    "    xnew = xold\n",
    "    diferencia = 10                   #Establecemos una diferencia inicial mayor que la epsilon propuesta, para que pueda entrar                                       al ciclo e inicializamos niteracion como cero.#\n",
    "    niteracion = 0\n",
    "    while diferencia > epsilon        #Mientras la diferencia sea mayor a epsilon, se realiza el método de Newton#\n",
    "        xold = xnew                   #A x vieja se le asignará el valor de la aproximación nueva conforme se realicen las                                             iteraciones.#\n",
    "        xnew = xold-f(xold)/df(xold)\n",
    "        diferencia = abs(xnew-xold)   #Vemos cual es la diferencia entre la aproximación recién encontrada y la anterior.#\n",
    "        niteracion = niteracion + 1   #Con esta asignación, el ciclo va ir avanzando.#\n",
    "    end\n",
    "    return xnew,f(xnew)               #La función regresará el valor de la aproximación y el resultado de evaluar ese número en                                       la función.#\n",
    "end"
   ]
  },
  {
   "cell_type": "code",
   "execution_count": null,
   "metadata": {
    "collapsed": false
   },
   "outputs": [],
   "source": [
    "metodoNewton2(0.1,0.000000000000001)"
   ]
  },
  {
   "cell_type": "markdown",
   "metadata": {},
   "source": [
    "La raíz obtenida utilizando un ciclo while es: 3.1616420951060653 - 1.6100774335077292e-31im."
   ]
  },
  {
   "cell_type": "code",
   "execution_count": null,
   "metadata": {
    "collapsed": true
   },
   "outputs": [],
   "source": []
  }
 ],
 "metadata": {
  "kernelspec": {
   "display_name": "Julia 0.6.0",
   "language": "julia",
   "name": "julia-0.6"
  },
  "language_info": {
   "file_extension": ".jl",
   "mimetype": "application/julia",
   "name": "julia",
   "version": "0.6.0"
  }
 },
 "nbformat": 4,
 "nbformat_minor": 2
}

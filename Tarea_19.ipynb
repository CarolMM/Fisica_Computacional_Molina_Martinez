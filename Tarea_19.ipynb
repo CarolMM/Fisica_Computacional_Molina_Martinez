{
 "cells": [
  {
   "cell_type": "markdown",
   "metadata": {},
   "source": [
    "## Ejercicio 1:\n",
    "\n",
    "Escriba la forma del operador laplaciano utilizando diferencias finitas simétricas. Es decir, discretice:\n",
    "\n",
    "$$\\nabla^2=\\frac{\\partial^2 f}{\\partial x^2}+\\frac{\\partial^2 f}{\\partial y^2}+\\frac{\\partial^2 f}{\\partial z^2}$$\n",
    "\n",
    "La diferencia central para la aproximación de la segunda derivada es:\n",
    "\n",
    "$$\\left. \\frac { { \\partial  }^{ 2 }f }{ \\partial { x }^{ 2 } }  \\right| _{ { (i,j,k) } }\\approx \\frac { { f }_{ i+1,j,k }-2{ f }_{ i,j,k }+{ f }_{ i-1,j,k } }{ { h }^{ 2 } } $$\n",
    "\n",
    "donde el segundo y tercer componentes se mantienen fijos. De forma análoga obtenemos:\n",
    "\n",
    "$$\\left. \\frac { { \\partial  }^{ 2 }f }{ \\partial { y }^{ 2 } }  \\right| _{ { (i,j,k) } }\\approx \\frac { { f }_{ i,j-1,k }-2{ f }_{ i,j,k }+{ f }_{ i,j+1,k } }{ { h }^{ 2 } } $$\n",
    "\n",
    "$$\\left. \\frac { { \\partial  }^{ 2 }f }{ \\partial { z }^{ 2 } }  \\right| _{ { (i,j,k) } }\\approx \\frac { { f }_{ i,j,k-1 }-2{ f }_{ i,j,k }+{ f }_{ i,j,k+1 } }{ { h }^{ 2 } } $$\n",
    "\n",
    "Sumando los resultados obtenidos, tenemos:\n",
    "\n",
    "$$\\nabla^2 \\approx \\frac { { f }_{ i+1,j,k }-2{ f }_{ i,j,k }+{ f }_{ i-1,j,k }+{ f }_{ i,j-1,k }-2{ f }_{ i,j,k }+{ f }_{ i,j+1,k }+{ f }_{ i,j,k-1 }-2{ f }_{ i,j,k }+{ f }_{ i,j,k+1 } }{ { h }^{ 2 } } $$\n",
    "\n",
    "Simplificando:\n",
    "\n",
    "$$\\nabla^2 \\approx \\frac { { f }_{ i+1,j,k }+{ f }_{ i-1,j,k }+{ f }_{ i,j-1,k }+{ f }_{ i,j+1,k }+{ f }_{ i,j,k-1 }+{ f }_{ i,j,k+1 }-6{ f }_{ i,j,k } }{ { h }^{ 2 } }  $$\n",
    "\n",
    "Esta fórmula relaciona el valor de $f_{i,j,k}$ con sus seis valores adyacentes $(i+1,j,k)$,$(i-1,j,k)$,$(i,j+1,k)$,$(i,j-1,k)$,$(i,j,k+1)$ y $(1,j,k-1)$.\n"
   ]
  },
  {
   "cell_type": "markdown",
   "metadata": {},
   "source": [
    "## Ejercicio 2: Condiciones a la frontera de Dirichlet\n",
    "Discretice la ecuación \n",
    "$$ \\frac{d^2f}{dx^2}, $$\n",
    "en el intervalo $[0,1]$, y aplicando el operador laplaciano discretizado obtenga el sistema de ecuaciones algebraicas lineales correspondientes al problema de _Dirichlet_:\n",
    "$f(0) = a$ y $f(1) = b$ dividiendo el intervalo $[0,1]$ en $5$ puntos separados por $h$.\n",
    "\n",
    "* Escriba el sistema lineal de ecuaciones que surge, usando $\\LaTeX$"
   ]
  },
  {
   "cell_type": "markdown",
   "metadata": {},
   "source": [
    "Igualamos $f''(x)$ a cero, de donde:\n",
    "\n",
    "$$f(x+h)-2f(x)+f(x-h)=0$$\n",
    "\n",
    "Como la discretización depende de los puntos adyacentes (derecho e izquierdo) a x=i, la ecuación anterior es equivalente a:\n",
    "\n",
    "$$f({ x }_{ i+1 })-2f({ x }_{ i })+f({ x }_{ i-1 })=0$$\n",
    "\n",
    "El intervalo $[0,1]$ se va a dvidir en $5$ puntos separados por $h$, que son:\n",
    "\n",
    "$$x_{1}=0$$\n",
    "\n",
    "$$x_{2}=1/4$$\n",
    "\n",
    "$$x_{3}=2/4$$\n",
    "\n",
    "$$x_{4}=3/4$$\n",
    "\n",
    "$$x_{5}=1$$\n",
    "\n",
    "Al evaluar en los puntos $x_{2}$, $x_{3}=0$ y $x_{4}=0$, obteniendo el siguiente sistema de 3 ecuaciones lineales:\n",
    "\n",
    "$$f({ x }_{ 1 })-2f({ x }_{ 2 })+f({ x }_{ 3 })=0$$\n",
    "\n",
    "$$f({ x }_{ 2 })-2f({ x }_{ 3 })+f({ x }_{ 4 })=0$$\n",
    "\n",
    "$$f({ x }_{ 3 })-2f({ x }_{ 4 })+f({ x }_{ 5 })=0$$\n",
    "\n",
    "Sustituyendo $f(0) = f({ x }_{ 1 })= a$ y $f(1) =f({ x }_{ 5 })= b$, obtenemos:\n",
    "\n",
    "$$a-2f({ x }_{ 2 })+f({ x }_{ 3 })=0$$\n",
    "\n",
    "$$f({ x }_{ 2 })-2f({ x }_{ 3 })+f({ x }_{ 4 })=0$$\n",
    "\n",
    "$$f({ x }_{ 3 })-2f({ x }_{ 4 })+b=0$$"
   ]
  },
  {
   "cell_type": "markdown",
   "metadata": {},
   "source": [
    "## Ejercicio 3: Condiciones a la frontera de Neumann\n",
    "Hacer lo mismo para condiciones de _Neumann_, es decir, fijando en los extremos el valor de la primera derivada de la función. Para esto utilice la derivada _hacia adeltante_ en las orillas, es decir, si $f'(0)=a$ y $f'(1)=b$, entonces $(f_1-f_0)/h=a$, etc. No olvide que debe resultar un sistema de ecuación cuya dimensión sea el número de incognitas.\n",
    "\n",
    "* Escriba el sistema lineal de ecuaciones que surge, usando $\\LaTeX$ en el _notebook_ de la tarea que sigue."
   ]
  },
  {
   "cell_type": "markdown",
   "metadata": {},
   "source": [
    "Retomamos los resultados obtenidos en el ejercicio 2:\n",
    "\n",
    "$$f({ x }_{ 1 })-2f({ x }_{ 2 })+f({ x }_{ 3 })=0$$\n",
    "\n",
    "$$f({ x }_{ 2 })-2f({ x }_{ 3 })+f({ x }_{ 4 })=0$$\n",
    "\n",
    "$$f({ x }_{ 3 })-2f({ x }_{ 4 })+f({ x }_{ 5 })=0$$\n",
    "\n",
    "Para conocer $f({ x }_{ 1 })$ y $f({ x }_{ 5 })$, utilizamos la derivada hacia adelante en las orillas, es decir, si $f'(x_{1})=f'(0)=a$ y $f'(x_{5})=f'(1)=b$, entonces:\n",
    "\n",
    "$$\\frac { f({ x }_{ 2 })-f({ x }_{ 1 }) }{ h } =a$$\n",
    "\n",
    "$$\\frac { f({ x }_{ 5 })-f({ x }_{ 4 }) }{ h } =b$$\n",
    "\n",
    "De donde:\n",
    "\n",
    "$$\\frac { f({ x }_{ 2 })-f({ x }_{ 1 }) }{ 1/4 } =a$$\n",
    "\n",
    "Despejando $f({ x }_{ 1 })$, tenemos:\n",
    "\n",
    "$$ f({ x }_{ 1 })=f({ x }_{ 2 })-\\frac { a }{ 4 } $$\n",
    "\n",
    "y \n",
    "\n",
    "$$\\frac { f({ x }_{ 5 })-f({ x }_{ 4 }) }{ 1/4 } =b$$\n",
    "\n",
    "Despejando $f({ x }_{ 5 })$, tenemos:\n",
    "\n",
    "$$ f({ x }_{ 5 })=\\frac { b }{ 4 }-f({ x }_{ 4 }) $$\n",
    "\n",
    "Considerando que h=1/4, obtenemos un sistema de 5 ecuaciones con  5 incógnitas que son:\n",
    "\n",
    "$$f({ x }_{ 1 })=f({ x }_{ 2 })-ah$$\n",
    "\n",
    "$$f({ x }_{ 1 })-2f({ x }_{ 2 })+f({ x }_{ 3 })=0$$\n",
    "\n",
    "$$f({ x }_{ 2 })-2f({ x }_{ 3 })+f({ x }_{ 4 })=0$$\n",
    "\n",
    "$$f({ x }_{ 3 })-2f({ x }_{ 4 })+f({ x }_{ 5 })=0$$\n",
    "\n",
    "$$f({ x }_{ 5 })=bh-f({ x }_{ 4 })$$"
   ]
  },
  {
   "cell_type": "markdown",
   "metadata": {},
   "source": [
    "## Ejercicio 4: Indexación\n",
    "`Julia` es más eficiente\n",
    "si se utiliza un único índice para acceder a los elementos\n",
    "de una matriz, además que puede simplificar algunos problemas. Escribe una función $\\phi$ que traduzca un par de\n",
    "índices $i,j$ a un único índice $k$, es decir:\n",
    "$$\\phi: (i,j) \\mapsto k.$$\n",
    "También encuentren $\\phi^{-1}$. Note que $\\phi$ deberá depender de las dimensiones del arreglo, por lo menos de una de ellas."
   ]
  },
  {
   "cell_type": "markdown",
   "metadata": {},
   "source": [
    "Sea A una matriz de $n\\times m$, con n filas y m columnas. Buscamos una función $\\phi$ tal que $\\phi: (i,j) \\mapsto k.$ Para ello proponemos una función que dependa de por lo menos una de las dimensiones del arreglo, por ejemplo de m y cuya regla de correspondencia este dada por:\n",
    "\n",
    "$$\\phi =(i-1)m+j=k$$\n",
    "\n",
    "Para encontrar la función inversa, vamos a como poner a i, en términos de m y k, observando que si i=1, el mímimo para j también será i, por otro lado, si i=n, entonces el máximo para j será m, por lo que k puede tomar valores entre $(i-11)m+1$ e $im$, de donde:\n",
    "\n",
    "$$i=\\frac { k }{ m } $$\n",
    "\n",
    "Sustituyendo la expresión para i en $\\phi$, tenemos:\n",
    "\n",
    "$$\\phi =\\left( \\frac { k }{ m } -1 \\right) m+j=k$$\n",
    "\n",
    "Despejando j:\n",
    "\n",
    "$$j=k-(i-1)m=k-\\left( \\frac { k }{ m } -1 \\right) m$$\n",
    "\n",
    "Retomando $\\phi =(i-1)m+j=k$, obtenemos:\n",
    "\n",
    "$${ \\phi  }^{ -1 }(k)=\\left( \\frac { k }{ m } ,m \\right) =\\left( \\frac { k }{ m } ,k-\\left( \\frac { k }{ m } -1 \\right) m \\right) $$"
   ]
  },
  {
   "cell_type": "code",
   "execution_count": 2,
   "metadata": {},
   "outputs": [
    {
     "data": {
      "text/plain": [
       "par_de_índices_a_único_índice (generic function with 1 method)"
      ]
     },
     "execution_count": 2,
     "metadata": {},
     "output_type": "execute_result"
    }
   ],
   "source": [
    "# Podemos implementar la función que creamos\n",
    "\n",
    "function par_de_índices_a_único_índice(i,j,m)\n",
    "    return (i-1)*m+j\n",
    "end"
   ]
  },
  {
   "cell_type": "markdown",
   "metadata": {},
   "source": [
    "Para probar que nuestro método funcione adecuadamente, propongamos una matriz de prueba. Sea:"
   ]
  },
  {
   "cell_type": "code",
   "execution_count": 17,
   "metadata": {},
   "outputs": [
    {
     "name": "stdout",
     "output_type": "stream",
     "text": [
      "Los índices i=1 j=1 van a k=1\n",
      "Los índices i=1 j=2 van a k=2\n",
      "Los índices i=2 j=1 van a k=3\n",
      "Los índices i=2 j=2 van a k=4\n"
     ]
    }
   ],
   "source": [
    "A=[1 2; 3 4]\n",
    "l = size(A,1)\n",
    "m = size(A,2)\n",
    "\n",
    "for i in 1:l\n",
    "    for j in 1:m\n",
    "        println(\"Los índices i=\", i , \" j=\", j, \" van a k=\",par_de_índices_a_único_índice(i,j,m))\n",
    "    end\n",
    "end"
   ]
  },
  {
   "cell_type": "code",
   "execution_count": 23,
   "metadata": {},
   "outputs": [
    {
     "data": {
      "text/plain": [
       "único_índice_a_par_de_índices (generic function with 1 method)"
      ]
     },
     "execution_count": 23,
     "metadata": {},
     "output_type": "execute_result"
    }
   ],
   "source": [
    "# Ahora, para la inversa\n",
    "\n",
    "function único_índice_a_par_de_índices(m,índice)\n",
    "    if (índice%m!=0)\n",
    "        j = índice%m\n",
    "    else\n",
    "        j = m\n",
    "    end\n",
    "    i = (índice-j+m)/m\n",
    "    return [i,j]\n",
    "end"
   ]
  },
  {
   "cell_type": "code",
   "execution_count": 24,
   "metadata": {},
   "outputs": [
    {
     "name": "stdout",
     "output_type": "stream",
     "text": [
      "El índice k=1 va a i=1.0 y j=1.0\n",
      "El índice k=2 va a i=1.0 y j=2.0\n",
      "El índice k=3 va a i=2.0 y j=1.0\n",
      "El índice k=4 va a i=2.0 y j=2.0\n"
     ]
    }
   ],
   "source": [
    "I = [1 2 3 4]\n",
    "\n",
    "for índice in I\n",
    "    inverso = único_índice_a_par_de_índices(m,índice)\n",
    "    println(\"El índice k=\", índice, \" va a i=\", inverso[1], \" y j=\", inverso[2])\n",
    "end"
   ]
  },
  {
   "cell_type": "code",
   "execution_count": null,
   "metadata": {},
   "outputs": [],
   "source": []
  }
 ],
 "metadata": {
  "kernelspec": {
   "display_name": "Julia 0.6.0",
   "language": "julia",
   "name": "julia-0.6"
  },
  "language_info": {
   "file_extension": ".jl",
   "mimetype": "application/julia",
   "name": "julia",
   "version": "0.6.0"
  }
 },
 "nbformat": 4,
 "nbformat_minor": 2
}

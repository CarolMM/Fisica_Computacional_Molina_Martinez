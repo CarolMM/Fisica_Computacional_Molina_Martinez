{
 "cells": [
  {
   "cell_type": "markdown",
   "metadata": {},
   "source": [
    "# Método de integración de Riemann con diferencias finitas\n",
    "\n",
    "Para poder realizar la integración con este método se comienza por definir lo que es una partición de un intervalo cerrado [a,b] como un subconjunto finito $P=\\left\\{ { x }_{ 0 }=a,{ x }_{ 1 },{ x }_{ 2 },...,{ x }_{ n }=b \\right\\}$ que cumple que ${ x }_{ k }>{ x }_{ k-1 }$ con i=1,2,...,n.\n",
    "\n",
    "Una partición de un intervalo se obtiene al separar dicho intervalo en subintervalos, cuya unión forma el intervalo original.\n",
    "\n",
    "Considerando el intervalo $\\left[ { x }_{ k-1 },{ x }_{ k } \\right] $. Llamaremos:\n",
    "$${ M }_{ k }=sup\\left\\{ f(x)/x\\epsilon \\left[ { x }_{ k-1 },{ x }_{ k } \\right]  \\right\\} $$\n",
    "\n",
    "$$ { m }_{ k }=ínf\\left\\{ f(x)/x\\epsilon \\left[ { x }_{ k-1 },{ x }_{ k } \\right]  \\right\\} $$\n",
    "\n",
    "La suma inferior de f correspondiente a la partición P está definida como\n",
    "\n",
    "$$ L(f,P)=\\sum _{ k=1 }^{ n }{ { { m }_{ k }(x }_{ k }-{ x }_{ k-1 }) }  $$\n",
    "\n",
    "La suma inferior de f correspondiente a la partición P está definida como\n",
    "\n",
    "$$ U(f,P)=\\sum _{ k=1 }^{ n }{ { { M }_{ k }(x }_{ k }-{ x }_{ k-1 }) }  $$\n",
    "\n",
    "Para cada subintervalo $\\left[ { x }_{ k-1 },{ x }_{ k } \\right] $ de una función f acotada en el intervalo [a,b], elegimos un punto ${ x }_{ i }^{ \\ast  }$, en $\\left[ { x }_{ k-1 },{ x }_{ k } \\right] $  tal que\n",
    "\n",
    "$$L(f,P)\\le \\sum _{ k=1 }^{ n }{ f({ x }_{ i }^{ \\ast  })({ x }_{ k }-{ x }_{ k-1 }) } \\le U(f,P)$$\n",
    "\n",
    "Una suma tal como $\\sum _{ k=1 }^{ n }{ f({ x }_{ i }^{ \\ast  })({ x }_{ k }-{ x }_{ k-1 }) } $ se conoce como suma de Riemann de f para P.\n",
    "Esta suma corresponde a las sumas de las áreas de rectángulos con base ${ x }_{ k }-{ x }_{ k-1 }$ y altura ${ x }_{ i }^{ \\ast  }$\n",
    "\n",
    "La suma de Riemann para la integral en el intervalo [a,b] es:\n",
    "\n",
    "$$\\int _{ a }^{ b }{ f(x)dx\\approx (b-a) f\\left( \\frac { a+b }{ 2 }  \\right)  } $$"
   ]
  },
  {
   "cell_type": "markdown",
   "metadata": {},
   "source": [
    "# Métodos basados en funciones de interpolación"
   ]
  },
  {
   "cell_type": "markdown",
   "metadata": {},
   "source": [
    "Los métodos basados en funciones de interpolación buscan aproximar la integral de una función f(x) utilizando otra función, cuya integral exacta se conozca y que posee un determinado número de puntos que tienen el mismo valor que la función que se busca aproximar. Se les conoce como funciones de interpolación a aquellas funciones que buscan aproximar f(x) utilizando los puntos extremos como parte de los puntos que tienen el mismo valor que f(x).\n",
    "\n",
    "Las reglas del trapecio y de Simpson son ejemplos de las fórmulas de Newton-Cotes, que utilizan interpolación con polinomios de Lagrange que se evaluan en puntos que tienen igual separación en el intervalo [a,b]."
   ]
  },
  {
   "cell_type": "markdown",
   "metadata": {},
   "source": [
    "## Regla del trapecio\n",
    "\n",
    "Para integrar f(x) desde un punto (a,f(a)) hasta un punto (b,f(b)), utilizando la regla del trapecio se aproxima f(x) por su polinomio de interpolación lineal en el intervalo [a,b].\n",
    "\n",
    "$$ f(x)\\approx { P }_{ 1 }(x)=f(a)+\\frac { f(b)-f(a) }{ b-a } (x-a) $$\n",
    "\n",
    "de tal forma que:\n",
    "\n",
    "$$ \\int _{ a }^{ b }{ f(x)dx\\approx \\int _{ a }^{ b }{ { P }_{ 1 }(x)dx= } \\frac { b-a }{ 2 } (f(a)+f(b)) } $$\n",
    "\n",
    "Esta regla aproxima el valor de la integral de f(x) por el área del trapecio que determinan las rectas x=a, x=b, el eje x y la recta  (función lineal) que pasa por los puntos (a,f(a)) y (b,f(b))."
   ]
  },
  {
   "cell_type": "markdown",
   "metadata": {},
   "source": [
    "## Regla de Simpson\n",
    "\n",
    "Para la regla de Simpson se utilizan interpolaciones cuadráticas, es decir, se integran polinomios de interpolación de segundo grado, de la siguiente forma:\n",
    "\n",
    "Considerando una función f(x) en un intervalo [a,b], se toma como tercer punto de interpolación el punto medio de dicho intervalo, es decir: ${ x }_{ m }=\\frac { a+b }{ 2 } $, mientras que la semianchura del intervalo está dada por $h=\\frac { b-a }{ 2 } $, de tal forma que el polinomio de interpolación de segundo grado que pasa por (a,f(a)), ${ x }_{ m },f({ x }_{ m })$ y (b,f(b)) será:\n",
    "\n",
    "$$ { P }_{ 2 }(x)=f(a)+\\frac { f({ x }_{ m })-f(a) }{ h } (x-a)+\\frac { f(a)+f(b)-2f({ x }_{ m }) }{ 2{ h }^{ 2 } } (x-a)(x-{ x }_{ m })\\quad $$\n",
    "\n",
    "Calculando la integral de ${ P }_{ 2 }(x)$ entre a y b, obtenemos:\n",
    "\n",
    "$$\\int _{ a }^{ b }{ f(x)dx\\approx \\int _{ a }^{ b }{ { P }_{ 2 }(x)dx= } \\frac { h }{ 3 } \\left[ f(a)+4f\\left( { x }_{ m } \\right) +f(b) \\right]  } $$\n",
    "\n",
    "Que es igual a:\n",
    "\n",
    "$$\\int _{ a }^{ b }{ f(x)dx\\approx \\frac { b-a }{ 6 } \\left[ f(a)+4f\\left( \\frac { a+b }{ 2 }  \\right) +f(b) \\right]  } $$"
   ]
  },
  {
   "cell_type": "markdown",
   "metadata": {
    "collapsed": true
   },
   "source": [
    "Referencias:\n",
    "Es.wikipedia.org. (2017). Regla de Simpson. [online] Available at: https://es.wikipedia.org/wiki/Regla_de_Simpson [Accessed 29 Aug. 2017].\n",
    "\n",
    "Es.wikipedia.org. (2017). Integración de Riemann. [online] Available at: https://es.wikipedia.org/wiki/Integraci%C3%B3n_de_Riemann [Accessed 29 Aug. 2017].\n",
    "\n",
    "Es.wikipedia.org. (2017). Regla del trapecio. [online] Available at: https://es.wikipedia.org/wiki/Regla_del_trapecio [Accessed 29 Aug. 2017].\n"
   ]
  },
  {
   "cell_type": "code",
   "execution_count": null,
   "metadata": {
    "collapsed": true
   },
   "outputs": [],
   "source": []
  }
 ],
 "metadata": {
  "kernelspec": {
   "display_name": "Julia 0.6.0",
   "language": "julia",
   "name": "julia-0.6"
  },
  "language_info": {
   "file_extension": ".jl",
   "mimetype": "application/julia",
   "name": "julia",
   "version": "0.6.0"
  }
 },
 "nbformat": 4,
 "nbformat_minor": 2
}

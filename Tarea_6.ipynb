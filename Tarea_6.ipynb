{
 "cells": [
  {
   "cell_type": "code",
   "execution_count": 2,
   "metadata": {
    "collapsed": false
   },
   "outputs": [
    {
     "data": {
      "text/plain": [
       "f (generic function with 1 method)"
      ]
     },
     "execution_count": 2,
     "metadata": {},
     "output_type": "execute_result"
    }
   ],
   "source": [
    "function f(x)               #Función propuesta para integrar\n",
    "    x^3+x^2+1\n",
    "end"
   ]
  },
  {
   "cell_type": "markdown",
   "metadata": {},
   "source": [
    "El valor exacto de esta integral es 55185/4 que aproximadamente es 13796.3."
   ]
  },
  {
   "cell_type": "markdown",
   "metadata": {},
   "source": [
    "# Método del Rectángulo (básicamente Riemann con diferencias finitas)"
   ]
  },
  {
   "cell_type": "markdown",
   "metadata": {},
   "source": [
    "La suma de Riemann para la integral en el intervalo [a,b] puede ser aproximada por:\n",
    "\n",
    "$$\\int _{ a }^{ b }{ f(x)dx\\approx (b-a) f\\left( \\frac { a+b }{ 2 }  \\right)  } $$"
   ]
  },
  {
   "cell_type": "code",
   "execution_count": 6,
   "metadata": {
    "collapsed": false
   },
   "outputs": [
    {
     "data": {
      "text/plain": [
       "metodo_Riemann (generic function with 1 method)"
      ]
     },
     "execution_count": 6,
     "metadata": {},
     "output_type": "execute_result"
    }
   ],
   "source": [
    "function metodo_Riemann(f,a,b,n)   #Función que implementa el método del rectángulo, sus entradas son la función a integrar, los extremos del intervalo y el número de segmentos en que se va a dividir el intervalo original.\n",
    "    intervalo=(b-a)/n              #Considerando que los segmentos tengan la misma longitud, podemos obtener esta longitud haciendo el cociente de la resta de los extremos del intervalo entre el número de segmentos en que queremos separar el intervalo.\n",
    "    suma=0                         #En suma se va a ir guardando el valor de la implementación del método del rectángulo para cada segmento del intervalo. Inicializamos suma como cero.\n",
    "    x=zeros(1,n)                   #Aquí se van a ir guardando los valores de los puntos de cada segmento.\n",
    "    x[1]=a                         #El primer punto del intervalo es el extremo a\n",
    "    for i in 2:n                   #Con este ciclo for vamos a ir avanzando sobre los puntos del intervalo\n",
    "        x[i]=x[i-1]+intervalo      #El punto nuevo del intervalo se va a obtener sumando el punto anterior del intervalo (que para la primera vuelta del ciclo es a) más la longitud del segmento.\n",
    "        suma = suma + (x[i]-x[i-1])*f((x[i-1]+x[i])/2)   #Aquí vamos a anexar a suma el valor obtenindo aplicando la fórmula mostrada arriba para cada segmento del intervalo.\n",
    "    end\n",
    "    print(suma)                    #Finalmente la función nos va a arrojar el valor de la suma, que corresponde a la aproximación de la integral utilizando el método del rectángulo.\n",
    "end"
   ]
  },
  {
   "cell_type": "code",
   "execution_count": 7,
   "metadata": {
    "collapsed": false
   },
   "outputs": [
    {
     "name": "stdout",
     "output_type": "stream",
     "text": [
      "10507.0"
     ]
    }
   ],
   "source": [
    "metodo_Riemann(f,0,15,15)          #Aplicando el método de rectángulos a la función f, sobre el intervalo [0,15], dividido en 15 segmentos, obtenemos el valor de la aproximación para la integral."
   ]
  },
  {
   "cell_type": "code",
   "execution_count": 48,
   "metadata": {
    "collapsed": false
   },
   "outputs": [
    {
     "name": "stdout",
     "output_type": "stream",
     "text": [
      "13263.33156328134"
     ]
    }
   ],
   "source": [
    "metodo_Riemann(f,0,15,100)         #Aplicando el método de rectángulos a la función f, sobre el intervalo [0,15], dividido en 100 segmentos, obtenemos el valor de la aproximación para la integral."
   ]
  },
  {
   "cell_type": "markdown",
   "metadata": {},
   "source": [
    "Con los resultados anteriores se observa que la aproximación mejora aumentando el número de segmentos en que se divide el intervalo, de tal forma que la longitud de los segmentos disminuye y el resultado obtenido se asemeja cada vez más al valor exacto de la integral."
   ]
  },
  {
   "cell_type": "markdown",
   "metadata": {},
   "source": [
    "# Método del trapecio\n",
    "\n",
    "Para este método se utilizan trapecios en lugar de rectángulos para aproximar el valor de la intregral de una función en un intervalo [a,b].\n",
    "\n",
    "$$ \\int _{ a }^{ b }{ f(x)dx=(b-a)\\left( \\frac { f(a)+f(b) }{ 2 }  \\right)  } $$"
   ]
  },
  {
   "cell_type": "code",
   "execution_count": 1,
   "metadata": {
    "collapsed": false
   },
   "outputs": [
    {
     "data": {
      "text/plain": [
       "metodo_del_trapecio (generic function with 1 method)"
      ]
     },
     "execution_count": 1,
     "metadata": {},
     "output_type": "execute_result"
    }
   ],
   "source": [
    "function metodo_del_trapecio(f,a,b,n)   #Función que implementa el método del trapecio, sus entradas son la función a integrar, los extremos del intervalo y el número de segmentos en que se va a dividir el intervalo original.\n",
    "    intervalo=(b-a)/n              #Considerando que los segmentos tengan la misma longitud, podemos obtener esta longitud haciendo el cociente de la resta de los extremos del intervalo entre el número de segmentos en que queremos separar el intervalo.\n",
    "    suma=0                         #En suma se va a ir guardando el valor de la implementación del método del del trapecio para cada segmento del intervalo. Inicializamos suma como cero.\n",
    "    x=zeros(1,n)                   #Aquí se van a ir guardando los valores de cada segmento.\n",
    "    x[1]=a                         #El primer punto del intervalo es el extremo a\n",
    "    for i in 2:n                   #Con este ciclo for vamos a ir avanzando sobre los puntos del intervalo\n",
    "        x[i]=x[i-1]+intervalo      #El punto nuevo del intervalo se va a obtener sumando el punto anterior del intervalo (que para la primera vuelta del ciclo es a) más la longitud del segmento.\n",
    "        suma = suma + ((x[i]-x[i-1]))*((f(x[i-1])+f(x[i]))/2)   #Aquí vamos a anexar a suma el valor obtenindo aplicando la fórmula mostrada arriba para cada segmento del intervalo.\n",
    "    end\n",
    "    print(suma)                    #Finalmente la función nos va a arrojar el valor de la suma, que corresponde a la aproximación de la integral utilizando el método del trapecio.\n",
    "end"
   ]
  },
  {
   "cell_type": "code",
   "execution_count": 3,
   "metadata": {
    "collapsed": false
   },
   "outputs": [
    {
     "name": "stdout",
     "output_type": "stream",
     "text": [
      "10584.0"
     ]
    }
   ],
   "source": [
    "metodo_del_trapecio(f,0,15,15)     #Aplicando el método del trapecio a la función f, sobre el intervalo [0,15], dividido en 15 segmentos, obtenemos el valor de la aproximación para la integral."
   ]
  },
  {
   "cell_type": "code",
   "execution_count": 4,
   "metadata": {
    "collapsed": false
   },
   "outputs": [
    {
     "name": "stdout",
     "output_type": "stream",
     "text": [
      "13265.275753125085"
     ]
    }
   ],
   "source": [
    "metodo_del_trapecio(f,0,15,100)    #Aplicando el método del trapecio a la función f, sobre el intervalo [0,15], dividido en 100 segmentos, obtenemos el valor de la aproximación para la integral."
   ]
  },
  {
   "cell_type": "markdown",
   "metadata": {
    "collapsed": true
   },
   "source": [
    "Con los resultados anteriores también se observa que la aproximación mejora aumentando el número de segmentos en que se divide el intervalo, de tal forma que la longitud de los segmentos disminuye y el resultado obtenido se asemeja cada vez más al valor exacto de la integral.\n",
    "\n",
    "Comparando los resultados obtenidos con los métodos de rectángulos y trapecios, se observa que el método de trapecios proporciona una mejor aproximación que el método de rectángulos, considerando un mismo número de segmentos de un intervalo. "
   ]
  },
  {
   "cell_type": "code",
   "execution_count": null,
   "metadata": {
    "collapsed": true
   },
   "outputs": [],
   "source": []
  }
 ],
 "metadata": {
  "kernelspec": {
   "display_name": "Julia 0.6.0",
   "language": "julia",
   "name": "julia-0.6"
  },
  "language_info": {
   "file_extension": ".jl",
   "mimetype": "application/julia",
   "name": "julia",
   "version": "0.6.0"
  }
 },
 "nbformat": 4,
 "nbformat_minor": 2
}
